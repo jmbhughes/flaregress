{
 "cells": [
  {
   "cell_type": "code",
   "execution_count": 1,
   "metadata": {},
   "outputs": [
    {
     "ename": "ModuleNotFoundError",
     "evalue": "No module named 'deepdish'",
     "output_type": "error",
     "traceback": [
      "\u001b[0;31m---------------------------------------------------------------------------\u001b[0m",
      "\u001b[0;31mModuleNotFoundError\u001b[0m                       Traceback (most recent call last)",
      "\u001b[0;32m<ipython-input-1-352023f8f1a6>\u001b[0m in \u001b[0;36m<module>\u001b[0;34m()\u001b[0m\n\u001b[0;32m----> 1\u001b[0;31m \u001b[0;32mimport\u001b[0m \u001b[0mdeepdish\u001b[0m \u001b[0;32mas\u001b[0m \u001b[0mdd\u001b[0m\u001b[0;34m\u001b[0m\u001b[0m\n\u001b[0m\u001b[1;32m      2\u001b[0m \u001b[0;32mimport\u001b[0m \u001b[0mnumpy\u001b[0m \u001b[0;32mas\u001b[0m \u001b[0mnp\u001b[0m\u001b[0;34m\u001b[0m\u001b[0m\n\u001b[1;32m      3\u001b[0m \u001b[0;32mfrom\u001b[0m \u001b[0mdatetime\u001b[0m \u001b[0;32mimport\u001b[0m \u001b[0mdatetime\u001b[0m\u001b[0;34m\u001b[0m\u001b[0m\n\u001b[1;32m      4\u001b[0m \u001b[0;32mimport\u001b[0m \u001b[0mos\u001b[0m\u001b[0;34m\u001b[0m\u001b[0m\n\u001b[1;32m      5\u001b[0m \u001b[0;32mfrom\u001b[0m \u001b[0mflaregress\u001b[0m\u001b[0;34m.\u001b[0m\u001b[0mio\u001b[0m \u001b[0;32mimport\u001b[0m \u001b[0mGOESListHandler\u001b[0m\u001b[0;34m,\u001b[0m \u001b[0mGOESXrayRetriever\u001b[0m\u001b[0;34m,\u001b[0m\u001b[0mLASPf107Retriever\u001b[0m\u001b[0;34m,\u001b[0m \u001b[0mDatabaseHandler\u001b[0m\u001b[0;34m\u001b[0m\u001b[0m\n",
      "\u001b[0;31mModuleNotFoundError\u001b[0m: No module named 'deepdish'"
     ]
    }
   ],
   "source": [
    "import deepdish as dd\n",
    "import numpy as np\n",
    "from datetime import datetime\n",
    "import os\n",
    "from flaregress.io import GOESListHandler, GOESXrayRetriever,LASPf107Retriever, DatabaseHandler\n",
    "from flaregress.prepare import DataChunker\n",
    "import pickle\n",
    "import matplotlib.pyplot as plt"
   ]
  },
  {
   "cell_type": "markdown",
   "metadata": {},
   "source": [
    "# Introduction "
   ]
  },
  {
   "cell_type": "markdown",
   "metadata": {},
   "source": [
    "Must be in the \"flaregress\" directory!"
   ]
  },
  {
   "cell_type": "markdown",
   "metadata": {},
   "source": [
    "An example of how to chunk data."
   ]
  },
  {
   "cell_type": "markdown",
   "metadata": {},
   "source": [
    "# Experiment parameters "
   ]
  },
  {
   "cell_type": "code",
   "execution_count": 23,
   "metadata": {},
   "outputs": [],
   "source": [
    "num_flares = 10 # how many flares do you want in your database\n",
    "history_size = 100 # how much historical GOES data do you want per chunk?"
   ]
  },
  {
   "cell_type": "markdown",
   "metadata": {},
   "source": [
    "# Setup the data sources "
   ]
  },
  {
   "cell_type": "code",
   "execution_count": 3,
   "metadata": {},
   "outputs": [],
   "source": [
    "# save your work as you go here\n",
    "if not os.path.isdir(\"trial_data\"):\n",
    "    os.mkdir(\"trial_data\")\n",
    "    os.mkdir(os.path.join(\"trial_data\",\"goes\"))\n",
    "    os.mkdir(os.path.join(\"trial_data\",\"f107\"))\n",
    "    \n",
    "# get the flare list and pick\n",
    "flare_list = GOESListHandler().load(\"./data/goes_list.csv\")\n",
    "chosen_indices = np.random.choice(np.arange(len(flare_list)), num_flares)\n",
    "flare_list = flare_list.iloc[chosen_indices]\n",
    "\n",
    "# create retrievers\n",
    "gxr = GOESXrayRetriever(database_path=\"./trial_data/goes/db.csv\", save_directory=\"./trial_data/goes/\")\n",
    "fxr = LASPf107Retriever(database_path=\"./trial_data/f107/db.csv\", save_directory=\"./trial_data/f107/\")"
   ]
  },
  {
   "cell_type": "markdown",
   "metadata": {},
   "source": [
    "# Build the database "
   ]
  },
  {
   "cell_type": "code",
   "execution_count": 4,
   "metadata": {},
   "outputs": [
    {
     "name": "stderr",
     "output_type": "stream",
     "text": [
      "/home/marcus/.local/lib/python3.6/site-packages/sunpy/lightcurve/lightcurve.py:292: RuntimeWarning: Using existing file rather than downloading, use overwrite=True to override.\n",
      "  \"overwrite=True to override.\", RuntimeWarning)\n",
      "/home/marcus/.local/lib/python3.6/site-packages/deepdish/io/hdf5io.py:234: PerformanceWarning: \n",
      "your performance may suffer as PyTables will pickle object types that it cannot\n",
      "map directly to c-types [inferred_type->mixed-integer,key->values] [items->None]\n",
      "\n",
      "  name=level_name, filters=filters, idtable=idtable)\n"
     ]
    }
   ],
   "source": [
    "db = DatabaseHandler()\n",
    "db.build(flare_list, [gxr, fxr])\n",
    "db.save(\"./trial_data/db.h5\") # we save the database for later (I have this for the FULL dataset)"
   ]
  },
  {
   "cell_type": "markdown",
   "metadata": {},
   "source": [
    "# Perform the chunking! "
   ]
  },
  {
   "cell_type": "code",
   "execution_count": 24,
   "metadata": {},
   "outputs": [],
   "source": [
    "chunks, test = DataChunker(db, num_historical_goes=history_size).chunk()\n",
    "chunks.to_csv(\"./trial_data/chunks.csv\") # we save the chunks for later\n",
    "pickle.dump(test, open(\"./trial_data/test.pkl\", 'wb'))"
   ]
  },
  {
   "cell_type": "markdown",
   "metadata": {},
   "source": [
    "Chunks is the chunked data, each row is an entry. Test is the rest of the light curve for that entry that we can test against. If you want, we can easily make this a static horizon for prediction!"
   ]
  },
  {
   "cell_type": "code",
   "execution_count": 28,
   "metadata": {},
   "outputs": [
    {
     "data": {
      "image/png": "[encoded data removed]",
      "text/plain": [
       "<Figure size 432x288 with 1 Axes>"
      ]
     },
     "metadata": {
      "needs_background": "light"
     },
     "output_type": "display_data"
    }
   ],
   "source": [
    "fig, ax = plt.subplots()\n",
    "index = 1000\n",
    "this_train = [chunks.iloc[index]['xrsa_{:05d}'.format(i)] for i in range(history_size)]\n",
    "this_test = test[index]\n",
    "ax.plot(range(history_size), this_train, label='train')\n",
    "ax.plot(range(history_size, len(this_test)+history_size), this_test, label='test')\n",
    "ax.legend()\n",
    "ax.set_xlabel(\"index (proxy for time)\")\n",
    "ax.set_ylabel(\"xrsa brightness\")\n",
    "fig.show()"
   ]
  }
 ],
 "metadata": {
  "kernelspec": {
   "display_name": "Python 3",
   "language": "python",
   "name": "python3"
  },
  "language_info": {
   "codemirror_mode": {
    "name": "ipython",
    "version": 3
   },
   "file_extension": ".py",
   "mimetype": "text/x-python",
   "name": "python",
   "nbconvert_exporter": "python",
   "pygments_lexer": "ipython3",
   "version": "3.6.5"
  }
 },
 "nbformat": 4,
 "nbformat_minor": 2
}
