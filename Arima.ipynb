{
 "cells": [
  {
   "cell_type": "code",
   "execution_count": 65,
   "metadata": {},
   "outputs": [],
   "source": [
    "from flaregress.io import DatabaseHandler\n",
    "from statsmodels.tsa.arima_model import ARIMA\n",
    "from sklearn.metrics import mean_squared_error\n",
    "import matplotlib.pyplot as plt"
   ]
  },
  {
   "cell_type": "code",
   "execution_count": 20,
   "metadata": {},
   "outputs": [],
   "source": [
    "# Load database from h5 file\n",
    "db = DatabaseHandler()\n",
    "db.load('./trial_data/db.h5')"
   ]
  },
  {
   "cell_type": "code",
   "execution_count": 46,
   "metadata": {},
   "outputs": [],
   "source": [
    "# Model hyperparameters\n",
    "p = 5; d = 1; q = 0\n",
    "split_fraction = 0.8"
   ]
  },
  {
   "cell_type": "code",
   "execution_count": 47,
   "metadata": {},
   "outputs": [],
   "source": [
    "# Process data for ARIMA\n",
    "split = int(len(db.entries) * split_fraction)\n",
    "training_stream = [x['f107'].values[0] for x in db.entries[:split]]\n",
    "test_stream = [x['f107'].values[0] for x in db.entries[split:]]"
   ]
  },
  {
   "cell_type": "code",
   "execution_count": 48,
   "metadata": {},
   "outputs": [
    {
     "name": "stdout",
     "output_type": "stream",
     "text": [
      "                             ARIMA Model Results                              \n",
      "==============================================================================\n",
      "Dep. Variable:                    D.y   No. Observations:                47124\n",
      "Model:                 ARIMA(5, 1, 0)   Log Likelihood             -386964.134\n",
      "Method:                       css-mle   S.D. of innovations            891.294\n",
      "Date:                Mon, 10 Dec 2018   AIC                         773942.267\n",
      "Time:                        10:59:19   BIC                         774003.591\n",
      "Sample:                             1   HQIC                        773961.530\n",
      "                                                                              \n",
      "==============================================================================\n",
      "                 coef    std err          z      P>|z|      [0.025      0.975]\n",
      "------------------------------------------------------------------------------\n",
      "const          0.0002      3.080   7.23e-05      1.000      -6.036       6.037\n",
      "ar.L1.D.y   2.858e-07      0.005    6.2e-05      1.000      -0.009       0.009\n",
      "ar.L2.D.y     -0.2665      0.005    -57.980      0.000      -0.276      -0.257\n",
      "ar.L3.D.y   4.566e-07      0.005    9.6e-05      1.000      -0.009       0.009\n",
      "ar.L4.D.y     -0.0666      0.005    -14.487      0.000      -0.076      -0.058\n",
      "ar.L5.D.y   4.803e-07      0.005      0.000      1.000      -0.009       0.009\n",
      "                                    Roots                                    \n",
      "=============================================================================\n",
      "                  Real          Imaginary           Modulus         Frequency\n",
      "-----------------------------------------------------------------------------\n",
      "AR.1            0.9680           -1.7141j            1.9686           -0.1682\n",
      "AR.2            0.9680           +1.7141j            1.9686            0.1682\n",
      "AR.3           -0.9680           -1.7141j            1.9686           -0.3318\n",
      "AR.4           -0.9680           +1.7141j            1.9686            0.3318\n",
      "AR.5       138636.7676           -0.0000j       138636.7676           -0.0000\n",
      "-----------------------------------------------------------------------------\n"
     ]
    }
   ],
   "source": [
    "# Train model\n",
    "model = ARIMA(training_stream, order=(p, d, q))\n",
    "model = model.fit(disp=0)\n",
    "print(model.summary())"
   ]
  },
  {
   "cell_type": "code",
   "execution_count": 63,
   "metadata": {},
   "outputs": [
    {
     "name": "stdout",
     "output_type": "stream",
     "text": [
      "Test MSE error: 2.207122543711938\n"
     ]
    }
   ],
   "source": [
    "# Test model\n",
    "# First 100 rows from the test stream are selected due to runtime issues\n",
    "n = len(test_stream); limit = 100\n",
    "history = training_stream[:]\n",
    "predictions = []\n",
    "for i in range(limit):\n",
    "    model = ARIMA(history, order=(p, d, q))\n",
    "    model = model.fit(disp=0)\n",
    "    yhat = model.forecast()[0]\n",
    "    predictions.append(yhat)\n",
    "    history.append(test_stream[i])\n",
    "print('Test MSE error:', mean_squared_error(test_stream[:limit], predictions))"
   ]
  },
  {
   "cell_type": "code",
   "execution_count": 66,
   "metadata": {},
   "outputs": [
    {
     "data": {
      "image/png": "[encoded data removed]",
      "text/plain": [
       "<Figure size 432x288 with 1 Axes>"
      ]
     },
     "metadata": {
      "needs_background": "light"
     },
     "output_type": "display_data"
    }
   ],
   "source": [
    "# Plot the results\n",
    "plt.plot(test_stream[:limit])\n",
    "plt.plot(predictions, color='red')\n",
    "plt.show()"
   ]
  },
  {
   "cell_type": "code",
   "execution_count": null,
   "metadata": {},
   "outputs": [],
   "source": []
  }
 ],
 "metadata": {
  "kernelspec": {
   "display_name": "Python 3",
   "language": "python",
   "name": "python3"
  },
  "language_info": {
   "codemirror_mode": {
    "name": "ipython",
    "version": 3
   },
   "file_extension": ".py",
   "mimetype": "text/x-python",
   "name": "python",
   "nbconvert_exporter": "python",
   "pygments_lexer": "ipython3",
   "version": "3.6.5"
  }
 },
 "nbformat": 4,
 "nbformat_minor": 2
}
